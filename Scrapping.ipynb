{
 "cells": [
  {
   "cell_type": "markdown",
   "metadata": {},
   "source": [
    "### Importing Libraries"
   ]
  },
  {
   "cell_type": "code",
   "execution_count": 21,
   "metadata": {},
   "outputs": [],
   "source": [
    "import requests\n",
    "from bs4 import BeautifulSoup"
   ]
  },
  {
   "cell_type": "markdown",
   "metadata": {},
   "source": [
    "### `Scrapping` the first 200 pages from website"
   ]
  },
  {
   "cell_type": "code",
   "execution_count": 22,
   "metadata": {},
   "outputs": [],
   "source": [
    "AirCraft=[]\n",
    "Seat_Type=[]\n",
    "Route=[]\n",
    "Date_flown=[]\n",
    "Type_of_traveller=[]\n",
    "Seat_Comfort=[]\n",
    "Cabin_staff_service=[]\n",
    "Ground_Service=[]\n",
    "value_for_money=[]\n",
    "Recommended=[]\n",
    "Food_And_Bevarages=[]\n",
    "inflight_entertainment=[]\n",
    "wifi_and_connectivity=[]\n",
    "Desc=[]\n",
    "ReviewRating=[]\n",
    "Author=[]\n",
    "Country=[]\n",
    "Date=[]\n",
    "ReviewContent=[]\n",
    "for i in range(1,201):\n",
    "    url=f\"https://www.airlinequality.com/airline-reviews/british-airways/page/{i}/\"\n",
    "    page=requests.get(url)\n",
    "    \n",
    "    container=BeautifulSoup(page.text,'html.parser') \n",
    "    soup=container.find_all(\"div\",class_=\"body\")\n",
    "    for i in soup:\n",
    "        div=i.find(\"div\",class_=\"review-stats\")\n",
    "        table=div.find(\"table\",class_=\"review-ratings\")\n",
    "        # Aircraft\n",
    "        td=table.find(\"td\",class_=\"review-rating-header aircraft\")\n",
    "        if td is not None:\n",
    "            value=td.find_next_sibling(\"td\",class_=\"review-value\")\n",
    "            AirCraft.append(value.text)\n",
    "        else:\n",
    "            AirCraft.append(None)\n",
    "        # Seat Type\n",
    "        td=table.find(\"td\",class_=\"review-rating-header cabin_flown\")\n",
    "        if td is not None:\n",
    "            value=td.find_next_sibling(\"td\",class_=\"review-value\")\n",
    "            Seat_Type.append(value.text)\n",
    "        else:\n",
    "            Seat_Type.append(None)\n",
    "        # Route\n",
    "        \n",
    "        td=table.find(\"td\",class_=\"review-rating-header route\")\n",
    "        if td is not None:\n",
    "            value=td.find_next_sibling(\"td\",class_=\"review-value\")\n",
    "            Route.append(value.text)\n",
    "        else:\n",
    "            Route.append(None)\n",
    "        # Date flown \n",
    "        td=table.find(\"td\",class_=\"review-rating-header date_flown\")\n",
    "        if td is not None:\n",
    "            value=td.find_next_sibling(\"td\",class_=\"review-value\")\n",
    "            Date_flown.append(value.text)\n",
    "        else:\n",
    "            Date_flown.append(None)\n",
    "        # Type of traveller\n",
    "        \n",
    "        td=table.find(\"td\",class_=\"review-rating-header type_of_traveller\")\n",
    "        if td is not None:\n",
    "            value=td.find_next_sibling(\"td\",class_=\"review-value\")\n",
    "            Type_of_traveller.append(value.text)\n",
    "        else:\n",
    "            Type_of_traveller.append(None)\n",
    "\n",
    "        # Seat comfort\n",
    "        td=table.find(\"td\",class_=\"review-rating-header seat_comfort\")\n",
    "        if td is not None:\n",
    "            value=td.find_next_sibling(\"td\",class_=\"review-rating-stars\")\n",
    "            filled_stars = value.find_all('span', class_='star fill')\n",
    "            rating = len(filled_stars)\n",
    "            Seat_Comfort.append(rating)\n",
    "        else:\n",
    "            Seat_Comfort.append(None)\n",
    "        \n",
    "        # Cabin_Staff_Services\n",
    "        td=table.find(\"td\",class_=\"review-rating-header cabin_staff_service\")\n",
    "        if td is not None:\n",
    "            value=td.find_next_sibling(\"td\",class_=\"review-rating-stars\")\n",
    "            filled_stars = value.find_all('span', class_='star fill')\n",
    "            rating = len(filled_stars)\n",
    "            Cabin_staff_service.append(rating)\n",
    "        else:\n",
    "            Cabin_staff_service.append(None)\n",
    "\n",
    "    \n",
    "        # Ground Service\n",
    "        td=table.find(\"td\",class_=\"review-rating-header ground_service\")\n",
    "        if td is not None:\n",
    "            value=td.find_next_sibling(\"td\",class_=\"review-rating-stars\")\n",
    "            filled_stars = value.find_all('span', class_='star fill')\n",
    "            rating = len(filled_stars)\n",
    "            Ground_Service.append(rating)\n",
    "        else:\n",
    "            Ground_Service.append(None)\n",
    "\n",
    "        #value_for_money\n",
    "        td=table.find(\"td\",class_=\"review-rating-header value_for_money\")\n",
    "        if td is not None:\n",
    "            value=td.find_next_sibling(\"td\",class_=\"review-rating-stars\")\n",
    "            filled_stars = value.find_all('span', class_='star fill')\n",
    "            rating = len(filled_stars)\n",
    "            value_for_money.append(rating)\n",
    "        else:\n",
    "            value_for_money.append(None)\n",
    "\n",
    "        # recommended\n",
    "        tn=table.find(\"td\",class_=\"review-value rating-no\")\n",
    "        ts=table.find(\"td\",class_=\"review-value rating-yes\")\n",
    "        if tn is not None:\n",
    "            value=tn.text\n",
    "            Recommended.append(value)\n",
    "        elif ts is not None:\n",
    "            Recommended.append(ts.text)\n",
    "        else:\n",
    "            Recommended.append(\"N/A\")\n",
    "\n",
    "        # Food and Bevarages\n",
    "        td=table.find(\"td\",class_=\"review-rating-header food_and_beverages\")\n",
    "        if td is not None:\n",
    "            value=td.find_next_sibling(\"td\",class_=\"review-rating-stars\")\n",
    "            filled_stars = value.find_all('span', class_='star fill')\n",
    "            rating = len(filled_stars)\n",
    "            Food_And_Bevarages.append(rating)\n",
    "        else:\n",
    "            Food_And_Bevarages.append(None)\n",
    "\n",
    "        # inflight_entertainment\n",
    "        td=table.find(\"td\",class_=\"review-rating-header inflight_entertainment\")\n",
    "        if td is not None:\n",
    "            value=td.find_next_sibling(\"td\",class_=\"review-rating-stars\")\n",
    "            filled_stars = value.find_all('span', class_='star fill')\n",
    "            rating = len(filled_stars)\n",
    "            inflight_entertainment.append(rating)\n",
    "        else:\n",
    "            inflight_entertainment.append(None)\n",
    "        # wifi_and_connectivity\n",
    "        td=table.find(\"td\",class_=\"review-rating-header wifi_and_connectivity\")\n",
    "        if td is not None:\n",
    "            value=td.find_next_sibling(\"td\",class_=\"review-rating-stars\")\n",
    "            filled_stars = value.find_all('span', class_='star fill')\n",
    "            rating = len(filled_stars)\n",
    "            wifi_and_connectivity.append(rating)\n",
    "        else:\n",
    "            wifi_and_connectivity.append(None)\n",
    "\n",
    "    soup=container.find_all(\"div\",{\"itemprop\":\"reviewRating\"})\n",
    "    if soup is not None:\n",
    "        for i in soup:\n",
    "            rating=i.find_all(\"span\",itemprop=\"ratingValue\")\n",
    "            for j in rating:\n",
    "                ReviewRating.append(j.text)\n",
    "    else:\n",
    "        ReviewRating.append(None)\n",
    "\n",
    "    # DESCRIPTION\n",
    "    soup=container.find_all(\"div\",class_=\"body\")\n",
    "    if soup is not None:\n",
    "        for i in soup:\n",
    "            h2=i.find_all(\"h2\")\n",
    "            for j in h2:\n",
    "                Desc.append(j.text)\n",
    "    else:\n",
    "        Desc.append(None)\n",
    "    \n",
    "    # AUTHOR\n",
    "    soup=container.find_all(\"h3\")\n",
    "    if soup is not None:\n",
    "        for i in soup:\n",
    "            name=i.span.text.split(\"\\n\")\n",
    "            Author.append(name)\n",
    "    else:\n",
    "        Author.append(None)\n",
    "\n",
    "    # COUNTRY\n",
    "    soup=container.find_all(\"h3\")\n",
    "    if soup is not None:\n",
    "        for i in soup:\n",
    "            Country.append(i.span.next_sibling.text.strip(\" ()\"))\n",
    "    else:\n",
    "        Country.append(None)\n",
    "\n",
    "    # DATE\n",
    "    soup=container.find_all(\"time\")\n",
    "    if soup is not None:\n",
    "        for i in soup:\n",
    "            Date.append(i.text)\n",
    "    else:\n",
    "        Date.append(None)\n",
    "\n",
    "    # REVIEW\n",
    "    soup=container.find_all(\"div\",class_=\"text_content\")\n",
    "    if soup is not None:\n",
    "        for i in soup:\n",
    "            ReviewContent.append(i.text)\n",
    "    else:\n",
    "        ReviewContent.append(None)     "
   ]
  },
  {
   "cell_type": "code",
   "execution_count": 23,
   "metadata": {},
   "outputs": [],
   "source": [
    "column=[Author,Desc,ReviewRating,Country,Date,AirCraft,Seat_Type,Route,Date_flown,Type_of_traveller,Seat_Comfort,Cabin_staff_service,Ground_Service,value_for_money,Recommended,Food_And_Bevarages,inflight_entertainment,wifi_and_connectivity]"
   ]
  },
  {
   "cell_type": "code",
   "execution_count": 24,
   "metadata": {},
   "outputs": [
    {
     "name": "stdout",
     "output_type": "stream",
     "text": [
      "2000\n",
      "2000\n",
      "2000\n",
      "2000\n",
      "2000\n",
      "2000\n",
      "2000\n",
      "2000\n",
      "2000\n",
      "2000\n",
      "2000\n",
      "2000\n",
      "2000\n",
      "2000\n",
      "2000\n",
      "2000\n",
      "2000\n",
      "2000\n"
     ]
    }
   ],
   "source": [
    "for i in column:\n",
    "    print(len(i))"
   ]
  },
  {
   "cell_type": "code",
   "execution_count": 25,
   "metadata": {},
   "outputs": [
    {
     "data": {
      "text/plain": [
       "['Boeing 777-200',\n",
       " 'A350',\n",
       " None,\n",
       " 'Boeing 777',\n",
       " 'A320',\n",
       " 'Boeing 777',\n",
       " 'A320',\n",
       " None]"
      ]
     },
     "execution_count": 25,
     "metadata": {},
     "output_type": "execute_result"
    }
   ],
   "source": [
    "AirCraft[2:10]"
   ]
  },
  {
   "cell_type": "markdown",
   "metadata": {},
   "source": [
    "### Converting into a dataframe "
   ]
  },
  {
   "cell_type": "code",
   "execution_count": 14,
   "metadata": {},
   "outputs": [],
   "source": [
    "import pandas as pd"
   ]
  },
  {
   "cell_type": "code",
   "execution_count": 26,
   "metadata": {},
   "outputs": [],
   "source": [
    "df=pd.DataFrame({\"Author\":Author,\n",
    "                \"Description\":Desc,\n",
    "                \"ReviewRating\": ReviewRating,\n",
    "                \"Country\":Country,\n",
    "                \"Review_Date\":Date,\n",
    "                \"AirCraft\":AirCraft,\n",
    "                \"Seat_Type\":Seat_Type,\n",
    "                \"Route\":Route,\n",
    "                \"Date_flown\":Date_flown,\n",
    "                \"Type_of_traveller\":Type_of_traveller,\n",
    "                \"Seat_Comfort\":Seat_Comfort,\n",
    "                \"Cabin_staff_service\":Cabin_staff_service,\n",
    "                \"Ground_Service\": Ground_Service,\n",
    "                \"Value_For_Money\":value_for_money,\n",
    "                \"Recommended\":Recommended,\n",
    "                \"Food_And_Bevarages\":Food_And_Bevarages,\n",
    "                \"Inflight_Entertainment\":inflight_entertainment,\n",
    "                \"Wifi_and_Connectivity\":wifi_and_connectivity  })"
   ]
  },
  {
   "cell_type": "code",
   "execution_count": 50,
   "metadata": {},
   "outputs": [],
   "source": [
    "df=pd.read_csv(\"customer_reviews.csv\")"
   ]
  },
  {
   "cell_type": "code",
   "execution_count": 51,
   "metadata": {},
   "outputs": [
    {
     "data": {
      "text/html": [
       "<div>\n",
       "<style scoped>\n",
       "    .dataframe tbody tr th:only-of-type {\n",
       "        vertical-align: middle;\n",
       "    }\n",
       "\n",
       "    .dataframe tbody tr th {\n",
       "        vertical-align: top;\n",
       "    }\n",
       "\n",
       "    .dataframe thead th {\n",
       "        text-align: right;\n",
       "    }\n",
       "</style>\n",
       "<table border=\"1\" class=\"dataframe\">\n",
       "  <thead>\n",
       "    <tr style=\"text-align: right;\">\n",
       "      <th></th>\n",
       "      <th>Unnamed: 0</th>\n",
       "      <th>Author</th>\n",
       "      <th>Description</th>\n",
       "      <th>ReviewRating</th>\n",
       "      <th>Country</th>\n",
       "      <th>Review_Date</th>\n",
       "      <th>AirCraft</th>\n",
       "      <th>Seat_Type</th>\n",
       "      <th>Route</th>\n",
       "      <th>Date_flown</th>\n",
       "      <th>Type_of_traveller</th>\n",
       "      <th>Seat_Comfort</th>\n",
       "      <th>Cabin_staff_service</th>\n",
       "      <th>Ground_Service</th>\n",
       "      <th>Value_For_Money</th>\n",
       "      <th>Recommended</th>\n",
       "      <th>Food_And_Bevarages</th>\n",
       "      <th>Inflight_Entertainment</th>\n",
       "      <th>Wifi_and_Connectivity</th>\n",
       "    </tr>\n",
       "  </thead>\n",
       "  <tbody>\n",
       "    <tr>\n",
       "      <th>0</th>\n",
       "      <td>0</td>\n",
       "      <td>['', '4 reviews', '', '', '', 'Mike Flynn']</td>\n",
       "      <td>\"Flight attendants welcoming\"</td>\n",
       "      <td>7</td>\n",
       "      <td>United Kingdom</td>\n",
       "      <td>3rd April 2024</td>\n",
       "      <td>Boeing 787</td>\n",
       "      <td>Business Class</td>\n",
       "      <td>London Heathrow to Mumbai</td>\n",
       "      <td>March 2024</td>\n",
       "      <td>Business</td>\n",
       "      <td>3.0</td>\n",
       "      <td>5.0</td>\n",
       "      <td>4.0</td>\n",
       "      <td>3</td>\n",
       "      <td>yes</td>\n",
       "      <td>3.0</td>\n",
       "      <td>4.0</td>\n",
       "      <td>NaN</td>\n",
       "    </tr>\n",
       "    <tr>\n",
       "      <th>1</th>\n",
       "      <td>1</td>\n",
       "      <td>['', 'E Dodson']</td>\n",
       "      <td>\"the service was appalling\"</td>\n",
       "      <td>3</td>\n",
       "      <td>United Kingdom</td>\n",
       "      <td>2nd April 2024</td>\n",
       "      <td>Boeing 777-200</td>\n",
       "      <td>Business Class</td>\n",
       "      <td>Doha to London Heathrow</td>\n",
       "      <td>March 2024</td>\n",
       "      <td>Couple Leisure</td>\n",
       "      <td>3.0</td>\n",
       "      <td>1.0</td>\n",
       "      <td>2.0</td>\n",
       "      <td>1</td>\n",
       "      <td>no</td>\n",
       "      <td>1.0</td>\n",
       "      <td>2.0</td>\n",
       "      <td>1.0</td>\n",
       "    </tr>\n",
       "    <tr>\n",
       "      <th>2</th>\n",
       "      <td>2</td>\n",
       "      <td>['', 'David Williams']</td>\n",
       "      <td>\"service was slow and unfriendly\"</td>\n",
       "      <td>4</td>\n",
       "      <td>United Kingdom</td>\n",
       "      <td>2nd April 2024</td>\n",
       "      <td>Boeing 777-200</td>\n",
       "      <td>Business Class</td>\n",
       "      <td>Doha to London Heathrow</td>\n",
       "      <td>March 2024</td>\n",
       "      <td>Couple Leisure</td>\n",
       "      <td>5.0</td>\n",
       "      <td>1.0</td>\n",
       "      <td>5.0</td>\n",
       "      <td>3</td>\n",
       "      <td>no</td>\n",
       "      <td>1.0</td>\n",
       "      <td>5.0</td>\n",
       "      <td>1.0</td>\n",
       "    </tr>\n",
       "    <tr>\n",
       "      <th>3</th>\n",
       "      <td>3</td>\n",
       "      <td>['', '11 reviews', '', '', '', 'C Down']</td>\n",
       "      <td>\"a really lovely flight\"</td>\n",
       "      <td>8</td>\n",
       "      <td>United Kingdom</td>\n",
       "      <td>28th March 2024</td>\n",
       "      <td>A350</td>\n",
       "      <td>Business Class</td>\n",
       "      <td>London Heathrow to São Paulo</td>\n",
       "      <td>March 2024</td>\n",
       "      <td>Solo Leisure</td>\n",
       "      <td>4.0</td>\n",
       "      <td>4.0</td>\n",
       "      <td>4.0</td>\n",
       "      <td>4</td>\n",
       "      <td>yes</td>\n",
       "      <td>5.0</td>\n",
       "      <td>5.0</td>\n",
       "      <td>NaN</td>\n",
       "    </tr>\n",
       "    <tr>\n",
       "      <th>4</th>\n",
       "      <td>4</td>\n",
       "      <td>['', 'Robert Walls']</td>\n",
       "      <td>\"travelling with British Airways so stressful\"</td>\n",
       "      <td>1</td>\n",
       "      <td>United Kingdom</td>\n",
       "      <td>28th March 2024</td>\n",
       "      <td>NaN</td>\n",
       "      <td>Economy Class</td>\n",
       "      <td>London Heathrow to Nice</td>\n",
       "      <td>March 2024</td>\n",
       "      <td>Couple Leisure</td>\n",
       "      <td>4.0</td>\n",
       "      <td>3.0</td>\n",
       "      <td>2.0</td>\n",
       "      <td>1</td>\n",
       "      <td>no</td>\n",
       "      <td>NaN</td>\n",
       "      <td>NaN</td>\n",
       "      <td>NaN</td>\n",
       "    </tr>\n",
       "  </tbody>\n",
       "</table>\n",
       "</div>"
      ],
      "text/plain": [
       "   Unnamed: 0                                       Author  \\\n",
       "0           0  ['', '4 reviews', '', '', '', 'Mike Flynn']   \n",
       "1           1                             ['', 'E Dodson']   \n",
       "2           2                       ['', 'David Williams']   \n",
       "3           3     ['', '11 reviews', '', '', '', 'C Down']   \n",
       "4           4                         ['', 'Robert Walls']   \n",
       "\n",
       "                                      Description  ReviewRating  \\\n",
       "0                   \"Flight attendants welcoming\"             7   \n",
       "1                     \"the service was appalling\"             3   \n",
       "2               \"service was slow and unfriendly\"             4   \n",
       "3                       \"a really lovely flight\"              8   \n",
       "4  \"travelling with British Airways so stressful\"             1   \n",
       "\n",
       "          Country      Review_Date        AirCraft       Seat_Type  \\\n",
       "0  United Kingdom   3rd April 2024      Boeing 787  Business Class   \n",
       "1  United Kingdom   2nd April 2024  Boeing 777-200  Business Class   \n",
       "2  United Kingdom   2nd April 2024  Boeing 777-200  Business Class   \n",
       "3  United Kingdom  28th March 2024            A350  Business Class   \n",
       "4  United Kingdom  28th March 2024             NaN   Economy Class   \n",
       "\n",
       "                          Route  Date_flown Type_of_traveller  Seat_Comfort  \\\n",
       "0     London Heathrow to Mumbai  March 2024          Business           3.0   \n",
       "1       Doha to London Heathrow  March 2024    Couple Leisure           3.0   \n",
       "2       Doha to London Heathrow  March 2024    Couple Leisure           5.0   \n",
       "3  London Heathrow to São Paulo  March 2024      Solo Leisure           4.0   \n",
       "4       London Heathrow to Nice  March 2024    Couple Leisure           4.0   \n",
       "\n",
       "   Cabin_staff_service  Ground_Service  Value_For_Money Recommended  \\\n",
       "0                  5.0             4.0                3         yes   \n",
       "1                  1.0             2.0                1          no   \n",
       "2                  1.0             5.0                3          no   \n",
       "3                  4.0             4.0                4         yes   \n",
       "4                  3.0             2.0                1          no   \n",
       "\n",
       "   Food_And_Bevarages  Inflight_Entertainment  Wifi_and_Connectivity  \n",
       "0                 3.0                     4.0                    NaN  \n",
       "1                 1.0                     2.0                    1.0  \n",
       "2                 1.0                     5.0                    1.0  \n",
       "3                 5.0                     5.0                    NaN  \n",
       "4                 NaN                     NaN                    NaN  "
      ]
     },
     "execution_count": 51,
     "metadata": {},
     "output_type": "execute_result"
    }
   ],
   "source": [
    "df.head()"
   ]
  },
  {
   "cell_type": "code",
   "execution_count": 52,
   "metadata": {},
   "outputs": [
    {
     "data": {
      "text/plain": [
       "(2000, 19)"
      ]
     },
     "execution_count": 52,
     "metadata": {},
     "output_type": "execute_result"
    }
   ],
   "source": [
    "df.shape"
   ]
  },
  {
   "cell_type": "code",
   "execution_count": null,
   "metadata": {},
   "outputs": [],
   "source": [
    "df.to_excel('customer_reviews.xlsx', sheet_name='MySheet', index=False)"
   ]
  },
  {
   "cell_type": "code",
   "execution_count": 54,
   "metadata": {},
   "outputs": [
    {
     "data": {
      "text/plain": [
       "Seat_Type\n",
       "Economy Class      1119\n",
       "Business Class      635\n",
       "Premium Economy     172\n",
       "First Class          74\n",
       "Name: count, dtype: int64"
      ]
     },
     "execution_count": 54,
     "metadata": {},
     "output_type": "execute_result"
    }
   ],
   "source": [
    "df['Seat_Type'].value_counts()"
   ]
  },
  {
   "cell_type": "code",
   "execution_count": 55,
   "metadata": {},
   "outputs": [
    {
     "data": {
      "text/plain": [
       "Type_of_traveller\n",
       "Couple Leisure    662\n",
       "Solo Leisure      614\n",
       "Business          443\n",
       "Family Leisure    278\n",
       "Name: count, dtype: int64"
      ]
     },
     "execution_count": 55,
     "metadata": {},
     "output_type": "execute_result"
    }
   ],
   "source": [
    "df['Type_of_traveller'].value_counts()"
   ]
  },
  {
   "cell_type": "code",
   "execution_count": 56,
   "metadata": {},
   "outputs": [],
   "source": [
    "df.to_csv('customer_reviews.csv')"
   ]
  },
  {
   "cell_type": "code",
   "execution_count": 57,
   "metadata": {},
   "outputs": [
    {
     "name": "stdout",
     "output_type": "stream",
     "text": [
      "<class 'pandas.core.frame.DataFrame'>\n",
      "RangeIndex: 2000 entries, 0 to 1999\n",
      "Data columns (total 19 columns):\n",
      " #   Column                  Non-Null Count  Dtype  \n",
      "---  ------                  --------------  -----  \n",
      " 0   Unnamed: 0              2000 non-null   int64  \n",
      " 1   Author                  2000 non-null   object \n",
      " 2   Description             2000 non-null   object \n",
      " 3   ReviewRating            2000 non-null   int64  \n",
      " 4   Country                 2000 non-null   object \n",
      " 5   Review_Date             2000 non-null   object \n",
      " 6   AirCraft                1211 non-null   object \n",
      " 7   Seat_Type               2000 non-null   object \n",
      " 8   Route                   1997 non-null   object \n",
      " 9   Date_flown              2000 non-null   object \n",
      " 10  Type_of_traveller       1997 non-null   object \n",
      " 11  Seat_Comfort            1891 non-null   float64\n",
      " 12  Cabin_staff_service     1879 non-null   float64\n",
      " 13  Ground_Service          1933 non-null   float64\n",
      " 14  Value_For_Money         2000 non-null   int64  \n",
      " 15  Recommended             2000 non-null   object \n",
      " 16  Food_And_Bevarages      1641 non-null   float64\n",
      " 17  Inflight_Entertainment  1147 non-null   float64\n",
      " 18  Wifi_and_Connectivity   488 non-null    float64\n",
      "dtypes: float64(6), int64(3), object(10)\n",
      "memory usage: 297.0+ KB\n"
     ]
    }
   ],
   "source": [
    "df.info()"
   ]
  },
  {
   "cell_type": "code",
   "execution_count": 58,
   "metadata": {},
   "outputs": [
    {
     "data": {
      "text/plain": [
       "Country\n",
       "United Kingdom           1205\n",
       "United States             264\n",
       "Canada                     68\n",
       "Australia                  61\n",
       "Germany                    42\n",
       "                         ... \n",
       "Vietnam                     1\n",
       "Saint Kitts and Nevis       1\n",
       "Ukraine                     1\n",
       "Ecuador                     1\n",
       "Luxembourg                  1\n",
       "Name: count, Length: 68, dtype: int64"
      ]
     },
     "execution_count": 58,
     "metadata": {},
     "output_type": "execute_result"
    }
   ],
   "source": [
    "df['Country'].value_counts()"
   ]
  },
  {
   "cell_type": "code",
   "execution_count": 59,
   "metadata": {},
   "outputs": [
    {
     "data": {
      "text/plain": [
       "Unnamed: 0                   0\n",
       "Author                       0\n",
       "Description                  0\n",
       "ReviewRating                 0\n",
       "Country                      0\n",
       "Review_Date                  0\n",
       "AirCraft                   789\n",
       "Seat_Type                    0\n",
       "Route                        3\n",
       "Date_flown                   0\n",
       "Type_of_traveller            3\n",
       "Seat_Comfort               109\n",
       "Cabin_staff_service        121\n",
       "Ground_Service              67\n",
       "Value_For_Money              0\n",
       "Recommended                  0\n",
       "Food_And_Bevarages         359\n",
       "Inflight_Entertainment     853\n",
       "Wifi_and_Connectivity     1512\n",
       "dtype: int64"
      ]
     },
     "execution_count": 59,
     "metadata": {},
     "output_type": "execute_result"
    }
   ],
   "source": [
    "df.isnull().sum()"
   ]
  },
  {
   "cell_type": "code",
   "execution_count": 60,
   "metadata": {},
   "outputs": [
    {
     "data": {
      "text/plain": [
       "AirCraft\n",
       "A320                       256\n",
       "Boeing 777                 157\n",
       "A380                       103\n",
       "Boeing 747-400              83\n",
       "Boeing 777-200              73\n",
       "                          ... \n",
       "Boeing 777-200 and A319      1\n",
       "A319 / Boeing 789            1\n",
       "A320 neo                     1\n",
       "A340-300, A320               1\n",
       "Boeing 747 / A380            1\n",
       "Name: count, Length: 140, dtype: int64"
      ]
     },
     "execution_count": 60,
     "metadata": {},
     "output_type": "execute_result"
    }
   ],
   "source": [
    "df['AirCraft'].value_counts()"
   ]
  },
  {
   "cell_type": "code",
   "execution_count": 61,
   "metadata": {},
   "outputs": [
    {
     "name": "stderr",
     "output_type": "stream",
     "text": [
      "C:\\Users\\ARWINDD\\AppData\\Local\\Temp\\ipykernel_17616\\378245621.py:1: FutureWarning: A value is trying to be set on a copy of a DataFrame or Series through chained assignment using an inplace method.\n",
      "The behavior will change in pandas 3.0. This inplace method will never work because the intermediate object on which we are setting values always behaves as a copy.\n",
      "\n",
      "For example, when doing 'df[col].method(value, inplace=True)', try using 'df.method({col: value}, inplace=True)' or df[col] = df[col].method(value) instead, to perform the operation inplace on the original object.\n",
      "\n",
      "\n",
      "  df['AirCraft'].fillna('Unknown', inplace=True)\n"
     ]
    },
    {
     "data": {
      "text/plain": [
       "Unnamed: 0                   0\n",
       "Author                       0\n",
       "Description                  0\n",
       "ReviewRating                 0\n",
       "Country                      0\n",
       "Review_Date                  0\n",
       "AirCraft                     0\n",
       "Seat_Type                    0\n",
       "Route                        3\n",
       "Date_flown                   0\n",
       "Type_of_traveller            3\n",
       "Seat_Comfort               109\n",
       "Cabin_staff_service        121\n",
       "Ground_Service              67\n",
       "Value_For_Money              0\n",
       "Recommended                  0\n",
       "Food_And_Bevarages         359\n",
       "Inflight_Entertainment     853\n",
       "Wifi_and_Connectivity     1512\n",
       "dtype: int64"
      ]
     },
     "execution_count": 61,
     "metadata": {},
     "output_type": "execute_result"
    }
   ],
   "source": [
    "df['AirCraft'].fillna('Unknown', inplace=True)\n",
    "df.isnull().sum()"
   ]
  },
  {
   "cell_type": "code",
   "execution_count": 62,
   "metadata": {},
   "outputs": [
    {
     "name": "stderr",
     "output_type": "stream",
     "text": [
      "C:\\Users\\ARWINDD\\AppData\\Local\\Temp\\ipykernel_17616\\2990591998.py:1: FutureWarning: A value is trying to be set on a copy of a DataFrame or Series through chained assignment using an inplace method.\n",
      "The behavior will change in pandas 3.0. This inplace method will never work because the intermediate object on which we are setting values always behaves as a copy.\n",
      "\n",
      "For example, when doing 'df[col].method(value, inplace=True)', try using 'df.method({col: value}, inplace=True)' or df[col] = df[col].method(value) instead, to perform the operation inplace on the original object.\n",
      "\n",
      "\n",
      "  df['Route'].fillna('Unknown', inplace=True)\n"
     ]
    },
    {
     "data": {
      "text/plain": [
       "Unnamed: 0                   0\n",
       "Author                       0\n",
       "Description                  0\n",
       "ReviewRating                 0\n",
       "Country                      0\n",
       "Review_Date                  0\n",
       "AirCraft                     0\n",
       "Seat_Type                    0\n",
       "Route                        0\n",
       "Date_flown                   0\n",
       "Type_of_traveller            3\n",
       "Seat_Comfort               109\n",
       "Cabin_staff_service        121\n",
       "Ground_Service              67\n",
       "Value_For_Money              0\n",
       "Recommended                  0\n",
       "Food_And_Bevarages         359\n",
       "Inflight_Entertainment     853\n",
       "Wifi_and_Connectivity     1512\n",
       "dtype: int64"
      ]
     },
     "execution_count": 62,
     "metadata": {},
     "output_type": "execute_result"
    }
   ],
   "source": [
    "df['Route'].fillna('Unknown', inplace=True)\n",
    "df.isnull().sum()"
   ]
  },
  {
   "cell_type": "code",
   "execution_count": 63,
   "metadata": {},
   "outputs": [
    {
     "name": "stderr",
     "output_type": "stream",
     "text": [
      "C:\\Users\\ARWINDD\\AppData\\Local\\Temp\\ipykernel_17616\\1494834966.py:2: FutureWarning: A value is trying to be set on a copy of a DataFrame or Series through chained assignment using an inplace method.\n",
      "The behavior will change in pandas 3.0. This inplace method will never work because the intermediate object on which we are setting values always behaves as a copy.\n",
      "\n",
      "For example, when doing 'df[col].method(value, inplace=True)', try using 'df.method({col: value}, inplace=True)' or df[col] = df[col].method(value) instead, to perform the operation inplace on the original object.\n",
      "\n",
      "\n",
      "  df['Type_of_traveller'].fillna(most_common_type, inplace=True)\n"
     ]
    },
    {
     "data": {
      "text/plain": [
       "Unnamed: 0                   0\n",
       "Author                       0\n",
       "Description                  0\n",
       "ReviewRating                 0\n",
       "Country                      0\n",
       "Review_Date                  0\n",
       "AirCraft                     0\n",
       "Seat_Type                    0\n",
       "Route                        0\n",
       "Date_flown                   0\n",
       "Type_of_traveller            0\n",
       "Seat_Comfort               109\n",
       "Cabin_staff_service        121\n",
       "Ground_Service              67\n",
       "Value_For_Money              0\n",
       "Recommended                  0\n",
       "Food_And_Bevarages         359\n",
       "Inflight_Entertainment     853\n",
       "Wifi_and_Connectivity     1512\n",
       "dtype: int64"
      ]
     },
     "execution_count": 63,
     "metadata": {},
     "output_type": "execute_result"
    }
   ],
   "source": [
    "most_common_type = df['Type_of_traveller'].mode()[0]\n",
    "df['Type_of_traveller'].fillna(most_common_type, inplace=True)\n",
    "df.isnull().sum()"
   ]
  },
  {
   "cell_type": "code",
   "execution_count": 64,
   "metadata": {},
   "outputs": [
    {
     "data": {
      "text/plain": [
       "2.7"
      ]
     },
     "execution_count": 64,
     "metadata": {},
     "output_type": "execute_result"
    }
   ],
   "source": [
    "round(df['Seat_Comfort'].mean(),1)"
   ]
  },
  {
   "cell_type": "code",
   "execution_count": 65,
   "metadata": {},
   "outputs": [
    {
     "name": "stderr",
     "output_type": "stream",
     "text": [
      "C:\\Users\\ARWINDD\\AppData\\Local\\Temp\\ipykernel_17616\\766153809.py:8: FutureWarning: A value is trying to be set on a copy of a DataFrame or Series through chained assignment using an inplace method.\n",
      "The behavior will change in pandas 3.0. This inplace method will never work because the intermediate object on which we are setting values always behaves as a copy.\n",
      "\n",
      "For example, when doing 'df[col].method(value, inplace=True)', try using 'df.method({col: value}, inplace=True)' or df[col] = df[col].method(value) instead, to perform the operation inplace on the original object.\n",
      "\n",
      "\n",
      "  df['Seat_Comfort'].fillna(mean_rating_integral, inplace=True)\n"
     ]
    },
    {
     "data": {
      "text/plain": [
       "Seat_Comfort\n",
       "1.0    514\n",
       "3.0    462\n",
       "2.0    458\n",
       "4.0    349\n",
       "5.0    217\n",
       "Name: count, dtype: int64"
      ]
     },
     "execution_count": 65,
     "metadata": {},
     "output_type": "execute_result"
    }
   ],
   "source": [
    "import math\n",
    "mean_rating = df['Seat_Comfort'].mean()\n",
    "\n",
    "# Extract the integral part of the mean rating\n",
    "mean_rating_integral = math.floor(mean_rating)\n",
    "\n",
    "# Fill null values in 'rating' column with the integral part of the mean\n",
    "df['Seat_Comfort'].fillna(mean_rating_integral, inplace=True)\n",
    "df['Seat_Comfort'].value_counts()"
   ]
  },
  {
   "cell_type": "code",
   "execution_count": 66,
   "metadata": {},
   "outputs": [
    {
     "data": {
      "text/plain": [
       "Unnamed: 0                   0\n",
       "Author                       0\n",
       "Description                  0\n",
       "ReviewRating                 0\n",
       "Country                      0\n",
       "Review_Date                  0\n",
       "AirCraft                     0\n",
       "Seat_Type                    0\n",
       "Route                        0\n",
       "Date_flown                   0\n",
       "Type_of_traveller            0\n",
       "Seat_Comfort                 0\n",
       "Cabin_staff_service        121\n",
       "Ground_Service              67\n",
       "Value_For_Money              0\n",
       "Recommended                  0\n",
       "Food_And_Bevarages         359\n",
       "Inflight_Entertainment     853\n",
       "Wifi_and_Connectivity     1512\n",
       "dtype: int64"
      ]
     },
     "execution_count": 66,
     "metadata": {},
     "output_type": "execute_result"
    }
   ],
   "source": [
    "df.isnull().sum()"
   ]
  },
  {
   "cell_type": "code",
   "execution_count": 67,
   "metadata": {},
   "outputs": [
    {
     "name": "stderr",
     "output_type": "stream",
     "text": [
      "C:\\Users\\ARWINDD\\AppData\\Local\\Temp\\ipykernel_17616\\4170491331.py:7: FutureWarning: A value is trying to be set on a copy of a DataFrame or Series through chained assignment using an inplace method.\n",
      "The behavior will change in pandas 3.0. This inplace method will never work because the intermediate object on which we are setting values always behaves as a copy.\n",
      "\n",
      "For example, when doing 'df[col].method(value, inplace=True)', try using 'df.method({col: value}, inplace=True)' or df[col] = df[col].method(value) instead, to perform the operation inplace on the original object.\n",
      "\n",
      "\n",
      "  df['Cabin_staff_service'].fillna(mean_rating_integral, inplace=True)\n"
     ]
    },
    {
     "data": {
      "text/plain": [
       "Cabin_staff_service\n",
       "5.0    469\n",
       "3.0    462\n",
       "1.0    459\n",
       "4.0    349\n",
       "2.0    261\n",
       "Name: count, dtype: int64"
      ]
     },
     "execution_count": 67,
     "metadata": {},
     "output_type": "execute_result"
    }
   ],
   "source": [
    "mean_rating = df['Cabin_staff_service'].mean()\n",
    "\n",
    "# Extract the integral part of the mean rating\n",
    "mean_rating_integral = math.floor(mean_rating)\n",
    "\n",
    "# Fill null values in 'rating' column with the integral part of the mean\n",
    "df['Cabin_staff_service'].fillna(mean_rating_integral, inplace=True)\n",
    "df['Cabin_staff_service'].value_counts()"
   ]
  },
  {
   "cell_type": "code",
   "execution_count": 68,
   "metadata": {},
   "outputs": [
    {
     "name": "stderr",
     "output_type": "stream",
     "text": [
      "C:\\Users\\ARWINDD\\AppData\\Local\\Temp\\ipykernel_17616\\552249132.py:7: FutureWarning: A value is trying to be set on a copy of a DataFrame or Series through chained assignment using an inplace method.\n",
      "The behavior will change in pandas 3.0. This inplace method will never work because the intermediate object on which we are setting values always behaves as a copy.\n",
      "\n",
      "For example, when doing 'df[col].method(value, inplace=True)', try using 'df.method({col: value}, inplace=True)' or df[col] = df[col].method(value) instead, to perform the operation inplace on the original object.\n",
      "\n",
      "\n",
      "  df['Ground_Service'].fillna(mean_rating_integral, inplace=True)\n"
     ]
    },
    {
     "data": {
      "text/plain": [
       "Ground_Service\n",
       "1.0    666\n",
       "4.0    391\n",
       "3.0    361\n",
       "2.0    301\n",
       "5.0    281\n",
       "Name: count, dtype: int64"
      ]
     },
     "execution_count": 68,
     "metadata": {},
     "output_type": "execute_result"
    }
   ],
   "source": [
    "mean_rating = df['Ground_Service'].mean()\n",
    "\n",
    "# Extract the integral part of the mean rating\n",
    "mean_rating_integral = math.floor(mean_rating)\n",
    "\n",
    "# Fill null values in 'rating' column with the integral part of the mean\n",
    "df['Ground_Service'].fillna(mean_rating_integral, inplace=True)\n",
    "df['Ground_Service'].value_counts()"
   ]
  },
  {
   "cell_type": "code",
   "execution_count": 69,
   "metadata": {},
   "outputs": [
    {
     "name": "stderr",
     "output_type": "stream",
     "text": [
      "C:\\Users\\ARWINDD\\AppData\\Local\\Temp\\ipykernel_17616\\109468920.py:7: FutureWarning: A value is trying to be set on a copy of a DataFrame or Series through chained assignment using an inplace method.\n",
      "The behavior will change in pandas 3.0. This inplace method will never work because the intermediate object on which we are setting values always behaves as a copy.\n",
      "\n",
      "For example, when doing 'df[col].method(value, inplace=True)', try using 'df.method({col: value}, inplace=True)' or df[col] = df[col].method(value) instead, to perform the operation inplace on the original object.\n",
      "\n",
      "\n",
      "  df['Food_And_Bevarages'].fillna(mean_rating_integral, inplace=True)\n"
     ]
    },
    {
     "data": {
      "text/plain": [
       "Food_And_Bevarages\n",
       "2.0    638\n",
       "1.0    620\n",
       "3.0    270\n",
       "4.0    258\n",
       "5.0    214\n",
       "Name: count, dtype: int64"
      ]
     },
     "execution_count": 69,
     "metadata": {},
     "output_type": "execute_result"
    }
   ],
   "source": [
    "\n",
    "mean_rating = df['Food_And_Bevarages'].mean()\n",
    "\n",
    "# Extract the integral part of the mean rating\n",
    "mean_rating_integral = math.floor(mean_rating)\n",
    "\n",
    "# Fill null values in 'rating' column with the integral part of the mean\n",
    "df['Food_And_Bevarages'].fillna(mean_rating_integral, inplace=True)\n",
    "df['Food_And_Bevarages'].value_counts()"
   ]
  },
  {
   "cell_type": "code",
   "execution_count": 70,
   "metadata": {},
   "outputs": [
    {
     "data": {
      "text/plain": [
       "Unnamed: 0             0\n",
       "Author                 0\n",
       "Description            0\n",
       "ReviewRating           0\n",
       "Country                0\n",
       "Review_Date            0\n",
       "AirCraft               0\n",
       "Seat_Type              0\n",
       "Route                  0\n",
       "Date_flown             0\n",
       "Type_of_traveller      0\n",
       "Seat_Comfort           0\n",
       "Cabin_staff_service    0\n",
       "Ground_Service         0\n",
       "Value_For_Money        0\n",
       "Recommended            0\n",
       "Food_And_Bevarages     0\n",
       "dtype: int64"
      ]
     },
     "execution_count": 70,
     "metadata": {},
     "output_type": "execute_result"
    }
   ],
   "source": [
    "# Inflight_Entertainment     853\n",
    "# Wifi_and_Connectivity     1512\n",
    "# Drop columns with a high number of null values\n",
    "df.drop(columns=['Inflight_Entertainment', 'Wifi_and_Connectivity'], inplace=True)\n",
    "df.isnull().sum()"
   ]
  },
  {
   "cell_type": "code",
   "execution_count": 71,
   "metadata": {},
   "outputs": [
    {
     "data": {
      "image/png": "[encoded data removed]",
      "text/plain": [
       "<Figure size 1000x600 with 1 Axes>"
      ]
     },
     "metadata": {},
     "output_type": "display_data"
    }
   ],
   "source": [
    "import pandas as pd\n",
    "import matplotlib.pyplot as plt\n",
    "\n",
    "# Assuming 'df' is your DataFrame containing the data\n",
    "# 'Country' is the column containing country names\n",
    "\n",
    "# Calculate the value counts of each country\n",
    "country_counts = df['Country'].value_counts()\n",
    "\n",
    "# Plot the value counts as a bar plot\n",
    "country_counts.plot(kind='bar', figsize=(10, 6))\n",
    "\n",
    "# Add labels and title\n",
    "plt.xlabel('Country')\n",
    "plt.ylabel('Count')\n",
    "plt.title('Value Counts of Each Country')\n",
    "\n",
    "# Show the plot\n",
    "plt.show()\n"
   ]
  },
  {
   "cell_type": "code",
   "execution_count": 73,
   "metadata": {},
   "outputs": [
    {
     "data": {
      "text/plain": [
       "1205"
      ]
     },
     "execution_count": 73,
     "metadata": {},
     "output_type": "execute_result"
    }
   ],
   "source": [
    "len(df[df['Country']=='United Kingdom'])"
   ]
  },
  {
   "cell_type": "code",
   "execution_count": 74,
   "metadata": {},
   "outputs": [
    {
     "name": "stdout",
     "output_type": "stream",
     "text": [
      "<class 'pandas.core.frame.DataFrame'>\n",
      "RangeIndex: 2000 entries, 0 to 1999\n",
      "Data columns (total 17 columns):\n",
      " #   Column               Non-Null Count  Dtype  \n",
      "---  ------               --------------  -----  \n",
      " 0   Unnamed: 0           2000 non-null   int64  \n",
      " 1   Author               2000 non-null   object \n",
      " 2   Description          2000 non-null   object \n",
      " 3   ReviewRating         2000 non-null   int64  \n",
      " 4   Country              2000 non-null   object \n",
      " 5   Review_Date          2000 non-null   object \n",
      " 6   AirCraft             2000 non-null   object \n",
      " 7   Seat_Type            2000 non-null   object \n",
      " 8   Route                2000 non-null   object \n",
      " 9   Date_flown           2000 non-null   object \n",
      " 10  Type_of_traveller    2000 non-null   object \n",
      " 11  Seat_Comfort         2000 non-null   float64\n",
      " 12  Cabin_staff_service  2000 non-null   float64\n",
      " 13  Ground_Service       2000 non-null   float64\n",
      " 14  Value_For_Money      2000 non-null   int64  \n",
      " 15  Recommended          2000 non-null   object \n",
      " 16  Food_And_Bevarages   2000 non-null   float64\n",
      "dtypes: float64(4), int64(3), object(10)\n",
      "memory usage: 265.8+ KB\n"
     ]
    }
   ],
   "source": [
    "df.info()"
   ]
  },
  {
   "cell_type": "code",
   "execution_count": 76,
   "metadata": {},
   "outputs": [
    {
     "data": {
      "text/plain": [
       "4.098"
      ]
     },
     "execution_count": 76,
     "metadata": {},
     "output_type": "execute_result"
    }
   ],
   "source": [
    "df['ReviewRating'].sum()/2000\n"
   ]
  },
  {
   "cell_type": "code",
   "execution_count": null,
   "metadata": {},
   "outputs": [],
   "source": []
  }
 ],
 "metadata": {
  "kernelspec": {
   "display_name": "Python 3",
   "language": "python",
   "name": "python3"
  },
  "language_info": {
   "codemirror_mode": {
    "name": "ipython",
    "version": 3
   },
   "file_extension": ".py",
   "mimetype": "text/x-python",
   "name": "python",
   "nbconvert_exporter": "python",
   "pygments_lexer": "ipython3",
   "version": "3.12.2"
  }
 },
 "nbformat": 4,
 "nbformat_minor": 2
}
